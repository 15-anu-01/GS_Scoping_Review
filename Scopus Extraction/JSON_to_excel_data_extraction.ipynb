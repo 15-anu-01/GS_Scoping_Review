{
 "cells": [
  {
   "cell_type": "code",
   "execution_count": 1,
   "id": "306b792a",
   "metadata": {},
   "outputs": [],
   "source": [
    "import os\n",
    "import json\n",
    "import pandas as pd"
   ]
  },
  {
   "cell_type": "code",
   "execution_count": 2,
   "id": "8d9c0b7c",
   "metadata": {},
   "outputs": [
    {
     "name": "stdout",
     "output_type": "stream",
     "text": [
      "✅ Saved: 2021.csv\n",
      "✅ Saved: 2022.csv\n"
     ]
    }
   ],
   "source": [
    "base_dir = \"scopus_cursor_by_year\"\n",
    "target_years = {\"2021\", \"2022\"}\n",
    "\n",
    "def extract_entry_fields(entry):\n",
    "    title = entry.get(\"dc:title\", \"\")\n",
    "    abstract = entry.get(\"dc:description\", \"\")\n",
    "    scopus_id = entry.get(\"dc:identifier\", \"\")\n",
    "    eid = entry.get(\"eid\", \"\")\n",
    "    doi = entry.get(\"prism:doi\", \"\")\n",
    "\n",
    "    authors = entry.get(\"author\", [])\n",
    "    author_names = []\n",
    "    for author in authors:\n",
    "        given = author.get(\"given-name\", \"\")\n",
    "        surname = author.get(\"surname\", \"\")\n",
    "        if given or surname:\n",
    "            author_names.append(f\"{given} {surname}\".strip())\n",
    "    authors_str = \", \".join(author_names)\n",
    "\n",
    "    return {\n",
    "        \"Title\": title,\n",
    "        \"Abstract\": abstract,\n",
    "        \"Authors\": authors_str,\n",
    "        \"Scopus ID\": scopus_id,\n",
    "        \"EID\": eid,\n",
    "        \"DOI\": doi\n",
    "    }\n",
    "\n",
    "# Loop only over the selected years\n",
    "for year in target_years:\n",
    "    year_path = os.path.join(base_dir, year)\n",
    "    if os.path.isdir(year_path):\n",
    "        all_entries = []\n",
    "        for file_name in os.listdir(year_path):\n",
    "            if file_name.endswith(\".json\"):\n",
    "                file_path = os.path.join(year_path, file_name)\n",
    "                with open(file_path, 'r', encoding='utf-8') as f:\n",
    "                    try:\n",
    "                        data = json.load(f)\n",
    "                        entries = data.get(\"search-results\", {}).get(\"entry\", [])\n",
    "                        for entry in entries:\n",
    "                            all_entries.append(extract_entry_fields(entry))\n",
    "                    except Exception as e:\n",
    "                        print(f\"Error reading {file_path}: {e}\")\n",
    "\n",
    "        # Save to one CSV per year\n",
    "        if all_entries:\n",
    "            df = pd.DataFrame(all_entries)\n",
    "            df.to_csv(f\"D:/GS/final_scoping_review/final_papers/scopus_final/excel_sheets/{year}.csv\", index=False)\n",
    "            print(f\"✅ Saved: {year}.csv\")\n",
    "        else:\n",
    "            print(f\"⚠️ No entries found for {year}\")\n",
    "    else:\n",
    "        print(f\"❌ Folder for year {year} does not exist\")\n"
   ]
  },
  {
   "cell_type": "code",
   "execution_count": null,
   "id": "a7ae78dc",
   "metadata": {},
   "outputs": [],
   "source": []
  }
 ],
 "metadata": {
  "kernelspec": {
   "display_name": "Python 3",
   "language": "python",
   "name": "python3"
  },
  "language_info": {
   "codemirror_mode": {
    "name": "ipython",
    "version": 3
   },
   "file_extension": ".py",
   "mimetype": "text/x-python",
   "name": "python",
   "nbconvert_exporter": "python",
   "pygments_lexer": "ipython3",
   "version": "3.11.9"
  }
 },
 "nbformat": 4,
 "nbformat_minor": 5
}
